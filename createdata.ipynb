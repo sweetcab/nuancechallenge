{
 "cells": [
  {
   "cell_type": "code",
   "execution_count": 1,
   "metadata": {
    "collapsed": true
   },
   "outputs": [],
   "source": [
    "import sys\n",
    "import pickle\n",
    "import nltk"
   ]
  },
  {
   "cell_type": "code",
   "execution_count": 2,
   "metadata": {},
   "outputs": [
    {
     "name": "stdout",
     "output_type": "stream",
     "text": [
      "[nltk_data] Downloading package punkt to\n",
      "[nltk_data]     C:\\Users\\ygao\\AppData\\Roaming\\nltk_data...\n",
      "[nltk_data]   Package punkt is already up-to-date!\n"
     ]
    },
    {
     "data": {
      "text/plain": [
       "True"
      ]
     },
     "execution_count": 2,
     "metadata": {},
     "output_type": "execute_result"
    }
   ],
   "source": [
    "nltk.download('punkt')"
   ]
  },
  {
   "cell_type": "code",
   "execution_count": 3,
   "metadata": {
    "collapsed": true
   },
   "outputs": [],
   "source": [
    "def make_sentences(datafile):\n",
    "    \"\"\"\n",
    "    We will break the raw text in datafile into\n",
    "    sentences. The nltk package will handle edge cases\n",
    "    (ex. Mr. Potter) and will give us the list of sentences.\n",
    "    \"\"\"\n",
    "\n",
    "    with open(datafile, 'r',encoding=\"utf-8\") as f:\n",
    "        text = f.read()\n",
    "\n",
    "    sentences = nltk.tokenize.sent_tokenize(text)\n",
    "    return sentences"
   ]
  },
  {
   "cell_type": "code",
   "execution_count": 6,
   "metadata": {
    "collapsed": true
   },
   "outputs": [],
   "source": [
    "def prepare_data():\n",
    "\n",
    "    original_data = 'olivertwist_original.txt'\n",
    "    # Break into sentences\n",
    "    original_sentences = make_sentences(original_data)\n",
    "    print(\"We have %i sentences.\" %(len(original_sentences)))\n",
    "    \n",
    "    print(original_sentences[0])\n",
    "    # Store sentences into data file\n",
    "    with open('original.p', 'wb') as f:\n",
    "        pickle.dump(original_sentences, f)"
   ]
  },
  {
   "cell_type": "code",
   "execution_count": 7,
   "metadata": {},
   "outputs": [
    {
     "name": "stdout",
     "output_type": "stream",
     "text": [
      "We have 9129 sentences.\n",
      "﻿Among other public buildings in a certain town, which for many reasons\n",
      "it will be prudent to refrain from mentioning, and to which I will\n",
      "assign no fictitious name, there is one anciently common to most towns,\n",
      "great or small: to wit, a workhouse; and in this workhouse was born; on\n",
      "a day and date which I need not trouble myself to repeat, inasmuch as\n",
      "it can be of no possible consequence to the reader, in this stage of\n",
      "the business at all events; the item of mortality whose name is\n",
      "prefixed to the head of this chapter.\n"
     ]
    }
   ],
   "source": [
    "prepare_data()"
   ]
  },
  {
   "cell_type": "code",
   "execution_count": null,
   "metadata": {
    "collapsed": true
   },
   "outputs": [],
   "source": []
  }
 ],
 "metadata": {
  "kernelspec": {
   "display_name": "Python 3",
   "language": "python",
   "name": "python3"
  },
  "language_info": {
   "codemirror_mode": {
    "name": "ipython",
    "version": 3
   },
   "file_extension": ".py",
   "mimetype": "text/x-python",
   "name": "python",
   "nbconvert_exporter": "python",
   "pygments_lexer": "ipython3",
   "version": "3.5.3"
  }
 },
 "nbformat": 4,
 "nbformat_minor": 2
}
