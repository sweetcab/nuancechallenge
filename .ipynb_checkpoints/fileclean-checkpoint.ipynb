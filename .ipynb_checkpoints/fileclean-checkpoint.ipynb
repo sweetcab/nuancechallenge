{
 "cells": [
  {
   "cell_type": "code",
   "execution_count": 7,
   "metadata": {
    "collapsed": true
   },
   "outputs": [],
   "source": [
    "import os\n",
    "filename='oliver_twist/olivertwist_original.txt'\n",
    "resultname='oliver_twist/olivertwist_obfuscated.txt'\n",
    "\n",
    "#读文件\n",
    "op=open(filename,'r')\n",
    "rfile=open(resultname,'w')\n",
    "for line in op.readlines():\n",
    "    #去除空行和注释行\n",
    "    if line.istitle():\n",
    "        continue\n",
    "    rfile.write(line)\n",
    "op.close()\n",
    "rfile.close()"
   ]
  },
  {
   "cell_type": "code",
   "execution_count": null,
   "metadata": {
    "collapsed": true
   },
   "outputs": [],
   "source": []
  }
 ],
 "metadata": {
  "kernelspec": {
   "display_name": "Python 3",
   "language": "python",
   "name": "python3"
  },
  "language_info": {
   "codemirror_mode": {
    "name": "ipython",
    "version": 3
   },
   "file_extension": ".py",
   "mimetype": "text/x-python",
   "name": "python",
   "nbconvert_exporter": "python",
   "pygments_lexer": "ipython3",
   "version": "3.5.3"
  }
 },
 "nbformat": 4,
 "nbformat_minor": 2
}
