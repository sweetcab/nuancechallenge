{
 "cells": [
  {
   "cell_type": "code",
   "execution_count": 14,
   "metadata": {},
   "outputs": [],
   "source": [
    "import os\n",
    "import random\n",
    "filename='oliver_twist/olivertwist_original.txt'\n",
    "resultname='oliver_twist/olivertwist_obfuscated.txt'\n",
    "\n",
    "#读文件\n",
    "op=open(filename,'r')\n",
    "rfile=open(resultname,'w')\n",
    "for line in op.readlines():\n",
    "    newline=\"\"\n",
    "    linelist=line.strip().split()\n",
    "    for word in linelist:\n",
    "        if word==\"the\" or word==\"a\":\n",
    "            a=random.random()\n",
    "            if a>0.5:\n",
    "                word=\"the\"\n",
    "            else:\n",
    "                word=\"a\"\n",
    "            newline+=word+\" \"\n",
    "        else:\n",
    "            newline+=word+\" \"\n",
    "    rfile.write(newline[:-1]+\"\\n\")\n",
    "op.close()\n",
    "rfile.close()"
   ]
  },
  {
   "cell_type": "code",
   "execution_count": null,
   "metadata": {
    "collapsed": true
   },
   "outputs": [],
   "source": []
  }
 ],
 "metadata": {
  "kernelspec": {
   "display_name": "Python 3",
   "language": "python",
   "name": "python3"
  },
  "language_info": {
   "codemirror_mode": {
    "name": "ipython",
    "version": 3
   },
   "file_extension": ".py",
   "mimetype": "text/x-python",
   "name": "python",
   "nbconvert_exporter": "python",
   "pygments_lexer": "ipython3",
   "version": "3.5.3"
  }
 },
 "nbformat": 4,
 "nbformat_minor": 2
}
